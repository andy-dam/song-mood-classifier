{
 "cells": [
  {
   "cell_type": "markdown",
   "metadata": {},
   "source": [
    "# Model Deployment Testing\n",
    "<p>This notebook contains testing the model after exporting it to a pkl and joblib file. After loading in each model, I tested with songs and compared it to the model in the model-testing.ipynb notebook just to make sure it was consistent.</p>"
   ]
  },
  {
   "cell_type": "code",
   "execution_count": 7,
   "metadata": {},
   "outputs": [],
   "source": [
    "import pickle\n",
    "import joblib\n",
    "from sklearn.ensemble import RandomForestClassifier\n",
    "from sklearn.preprocessing import StandardScaler\n",
    "import spotipy\n",
    "import os\n",
    "from spotipy.oauth2 import SpotifyClientCredentials"
   ]
  },
  {
   "cell_type": "code",
   "execution_count": 8,
   "metadata": {},
   "outputs": [],
   "source": [
    "# Load the model and scaler\n",
    "model = pickle.load(open('rfc.pkl', 'rb'))\n",
    "scaler = pickle.load(open('scaler.pkl', 'rb'))"
   ]
  },
  {
   "cell_type": "code",
   "execution_count": 9,
   "metadata": {},
   "outputs": [],
   "source": [
    "# Get the Spotify API credentials\n",
    "SPOTIFY_CLIENT_ID = os.environ.get('SPOTIFY_CLIENT_ID')\n",
    "SPOTIFY_CLIENT_SECRET = os.environ.get('SPOTIFY_CLIENT_SECRET')\n",
    "\n",
    "# Authenticate with the Spotify API\n",
    "auth_manager = SpotifyClientCredentials(client_id=SPOTIFY_CLIENT_ID, client_secret=SPOTIFY_CLIENT_SECRET)\n",
    "sp = spotipy.Spotify(auth_manager=auth_manager)\n",
    "\n"
   ]
  },
  {
   "cell_type": "code",
   "execution_count": 10,
   "metadata": {},
   "outputs": [
    {
     "name": "stdout",
     "output_type": "stream",
     "text": [
      "[0.525, 0.646, -4.963, 0.0268, 0.304, 0, 0.297, 0.373, 86.957]\n",
      "[-0.14601768  0.31869961  0.80944601 -0.54322941 -0.22656217 -0.68240403\n",
      "  0.65883815 -0.28639309 -1.05832805]\n",
      "sad\n"
     ]
    },
    {
     "name": "stderr",
     "output_type": "stream",
     "text": [
      "/Users/andydam/anaconda3/envs/py3125/lib/python3.12/site-packages/sklearn/base.py:493: UserWarning: X does not have valid feature names, but StandardScaler was fitted with feature names\n",
      "  warnings.warn(\n",
      "/Users/andydam/anaconda3/envs/py3125/lib/python3.12/site-packages/sklearn/base.py:493: UserWarning: X does not have valid feature names, but RandomForestClassifier was fitted with feature names\n",
      "  warnings.warn(\n"
     ]
    }
   ],
   "source": [
    "# make a prediction\n",
    "# get a test song\n",
    "test_song = \"Lemon yonezu\"\n",
    "\n",
    "# get the audio features of the test song\n",
    "results = sp.search(q=test_song, limit=1)\n",
    "track_id = results['tracks']['items'][0]['id']\n",
    "audio_features = sp.audio_features(track_id)[0]\n",
    "\n",
    "# filter out danceability, energy, loudness, speechiness, acousticness, instrumentalness, liveness, valence, tempo\n",
    "X = [audio_features['danceability'], audio_features['energy'], audio_features['loudness'], audio_features['speechiness'], audio_features['acousticness'], audio_features['instrumentalness'], audio_features['liveness'], audio_features['valence'], audio_features['tempo']]\n",
    "print(X)\n",
    "X = scaler.transform([X])[0]\n",
    "print(X)\n",
    "# make a prediction\n",
    "prediction = model.predict([X])[0]\n",
    "print(prediction)"
   ]
  },
  {
   "cell_type": "code",
   "execution_count": 11,
   "metadata": {},
   "outputs": [
    {
     "name": "stdout",
     "output_type": "stream",
     "text": [
      "[0.525, 0.646, -4.963, 0.0268, 0.304, 0, 0.297, 0.373, 86.957]\n",
      "[-0.14601768  0.31869961  0.80944601 -0.54322941 -0.22656217 -0.68240403\n",
      "  0.65883815 -0.28639309 -1.05832805]\n",
      "sad\n"
     ]
    },
    {
     "name": "stderr",
     "output_type": "stream",
     "text": [
      "/Users/andydam/anaconda3/envs/py3125/lib/python3.12/site-packages/sklearn/base.py:493: UserWarning: X does not have valid feature names, but StandardScaler was fitted with feature names\n",
      "  warnings.warn(\n",
      "/Users/andydam/anaconda3/envs/py3125/lib/python3.12/site-packages/sklearn/base.py:493: UserWarning: X does not have valid feature names, but RandomForestClassifier was fitted with feature names\n",
      "  warnings.warn(\n"
     ]
    }
   ],
   "source": [
    "# test the model from joblib\n",
    "\n",
    "test_song = \"Lemon yonezu\"\n",
    "\n",
    "# get the audio features of the test song\n",
    "results = sp.search(q=test_song, limit=1)\n",
    "track_id = results['tracks']['items'][0]['id']\n",
    "audio_features = sp.audio_features(track_id)[0]\n",
    "\n",
    "# filter out danceability, energy, loudness, speechiness, acousticness, instrumentalness, liveness, valence, tempo\n",
    "X = [audio_features['danceability'], audio_features['energy'], audio_features['loudness'], audio_features['speechiness'], audio_features['acousticness'], audio_features['instrumentalness'], audio_features['liveness'], audio_features['valence'], audio_features['tempo']]\n",
    "print(X)\n",
    "X = scaler.transform([X])[0]\n",
    "print(X)\n",
    "\n",
    "model1 = joblib.load('rfc.joblib')\n",
    "scaler1 = joblib.load('scaler.joblib')\n",
    "\n",
    "prediction1 = model1.predict([X])[0]\n",
    "print(prediction1)"
   ]
  },
  {
   "cell_type": "code",
   "execution_count": null,
   "metadata": {},
   "outputs": [],
   "source": []
  }
 ],
 "metadata": {
  "kernelspec": {
   "display_name": "py3125",
   "language": "python",
   "name": "python3"
  },
  "language_info": {
   "codemirror_mode": {
    "name": "ipython",
    "version": 3
   },
   "file_extension": ".py",
   "mimetype": "text/x-python",
   "name": "python",
   "nbconvert_exporter": "python",
   "pygments_lexer": "ipython3",
   "version": "3.12.5"
  }
 },
 "nbformat": 4,
 "nbformat_minor": 2
}
