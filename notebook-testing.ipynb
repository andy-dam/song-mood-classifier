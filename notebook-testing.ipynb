{
 "cells": [
  {
   "cell_type": "markdown",
   "metadata": {},
   "source": [
    "# Spotify Mood Classifier Testing"
   ]
  },
  {
   "cell_type": "code",
   "execution_count": 3,
   "metadata": {},
   "outputs": [],
   "source": [
    "import os\n",
    "import spotipy\n",
    "from spotipy.oauth2 import SpotifyClientCredentials\n",
    "import pandas as pd\n",
    "import numpy as np\n",
    "import matplotlib.pyplot as plt\n",
    "%matplotlib inline"
   ]
  },
  {
   "cell_type": "code",
   "execution_count": 4,
   "metadata": {},
   "outputs": [],
   "source": [
    "SPOTIFY_CLIENT_ID = os.getenv('SPOTIFY_CLIENT_ID')\n",
    "SPOTIFY_CLIENT_SECRET = os.getenv('SPOTIFY_CLIENT_SECRET')\n",
    "client_credentials_manager = SpotifyClientCredentials(client_id=SPOTIFY_CLIENT_ID, client_secret=SPOTIFY_CLIENT_SECRET)\n",
    "sp = spotipy.Spotify(client_credentials_manager=client_credentials_manager)"
   ]
  },
  {
   "cell_type": "code",
   "execution_count": 5,
   "metadata": {},
   "outputs": [
    {
     "name": "stdout",
     "output_type": "stream",
     "text": [
      "{'danceability': 0.66, 'energy': 0.656, 'key': 0, 'loudness': -6.746, 'mode': 1, 'speechiness': 0.0281, 'acousticness': 0.0365, 'instrumentalness': 0.00011, 'liveness': 0.39, 'valence': 0.741, 'tempo': 95.987, 'type': 'audio_features', 'id': '7tmkved6SCLlMJGXZhpMJ8', 'uri': 'spotify:track:7tmkved6SCLlMJGXZhpMJ8', 'track_href': 'https://api.spotify.com/v1/tracks/7tmkved6SCLlMJGXZhpMJ8', 'analysis_url': 'https://api.spotify.com/v1/audio-analysis/7tmkved6SCLlMJGXZhpMJ8', 'duration_ms': 252500, 'time_signature': 4}\n"
     ]
    },
    {
     "data": {
      "text/plain": [
       "'Nanashi Mumei'"
      ]
     },
     "execution_count": 5,
     "metadata": {},
     "output_type": "execute_result"
    }
   ],
   "source": [
    "\n",
    "# Example: Fetch a song by its name and get its audio features\n",
    "results = sp.search(q='mumei', type='track', limit=1)\n",
    "track_id = results['tracks']['items'][0]['id']\n",
    "audio_features = sp.audio_features(track_id)\n",
    "\n",
    "# Print out the audio features for the song\n",
    "print(audio_features[0])\n",
    "results['tracks']['items'][0]['artists'][0]['name']"
   ]
  },
  {
   "cell_type": "code",
   "execution_count": 6,
   "metadata": {},
   "outputs": [],
   "source": [
    "sad_playlist_id = '5irzXdNeeKc0Dg3UK4Ww6n'\n",
    "\n",
    "# Get the tracks in the playlist\n",
    "def get_playlist_tracks(playlist_id):\n",
    "    results = sp.playlist_tracks(playlist_id)\n",
    "    tracks = results['items']\n",
    "    while results['next']:\n",
    "        results = sp.next(results)\n",
    "        tracks.extend(results['items'])\n",
    "    return tracks\n",
    "\n",
    "sad_tracks = get_playlist_tracks(sad_playlist_id)\n",
    "\n"
   ]
  },
  {
   "cell_type": "code",
   "execution_count": 7,
   "metadata": {},
   "outputs": [
    {
     "name": "stdout",
     "output_type": "stream",
     "text": [
      "['7vzSI6FJdJEu17dY2cng8V', '0Z5Uq56npgNJ6bJN2OOenB', '50x1Ic8CaXkYNvjmxe3WXy', '0otRX6Z89qKkHkQ9OqJpKt', '6uSjXs3d0yPb1Z4xtIvqin']\n",
      "['Another Love', 'Say Yes To Heaven', 'Those Eyes', \"Car's Outside\", 'Someone You Loved']\n"
     ]
    }
   ],
   "source": [
    "# Get array of song ids and names\n",
    "sad_song_ids = []\n",
    "sad_song_names = []\n",
    "\n",
    "for track in sad_tracks:\n",
    "    sad_song_ids.append(track['track']['id'])\n",
    "    sad_song_names.append(track['track']['name'])\n",
    "\n",
    "print(sad_song_ids[0:5])\n",
    "print(sad_song_names[0:5])"
   ]
  },
  {
   "cell_type": "code",
   "execution_count": 10,
   "metadata": {},
   "outputs": [
    {
     "data": {
      "text/plain": [
       "{'danceability': 0.63,\n",
       " 'energy': 0.207,\n",
       " 'key': 4,\n",
       " 'loudness': -13.429,\n",
       " 'mode': 0,\n",
       " 'speechiness': 0.0334,\n",
       " 'acousticness': 0.736,\n",
       " 'instrumentalness': 2.34e-06,\n",
       " 'liveness': 0.13,\n",
       " 'valence': 0.331,\n",
       " 'tempo': 123.968,\n",
       " 'type': 'audio_features',\n",
       " 'id': '7vzSI6FJdJEu17dY2cng8V',\n",
       " 'uri': 'spotify:track:7vzSI6FJdJEu17dY2cng8V',\n",
       " 'track_href': 'https://api.spotify.com/v1/tracks/7vzSI6FJdJEu17dY2cng8V',\n",
       " 'analysis_url': 'https://api.spotify.com/v1/audio-analysis/7vzSI6FJdJEu17dY2cng8V',\n",
       " 'duration_ms': 125755,\n",
       " 'time_signature': 4}"
      ]
     },
     "execution_count": 10,
     "metadata": {},
     "output_type": "execute_result"
    }
   ],
   "source": [
    "# get audio features for all songs in the playlist\n",
    "sad_audio_features = []\n",
    "for i in range(0, len(sad_song_ids), 50):\n",
    "    # get audio features for the next 50 songs\n",
    "    audio_features = sp.audio_features(sad_song_ids[i:i+50])\n",
    "    for feature in audio_features:\n",
    "        sad_audio_features.append(feature)\n",
    "sad_audio_features[0]"
   ]
  },
  {
   "cell_type": "code",
   "execution_count": null,
   "metadata": {},
   "outputs": [],
   "source": []
  }
 ],
 "metadata": {
  "kernelspec": {
   "display_name": "Python 3",
   "language": "python",
   "name": "python3"
  },
  "language_info": {
   "codemirror_mode": {
    "name": "ipython",
    "version": 3
   },
   "file_extension": ".py",
   "mimetype": "text/x-python",
   "name": "python",
   "nbconvert_exporter": "python",
   "pygments_lexer": "ipython3",
   "version": "3.12.5"
  }
 },
 "nbformat": 4,
 "nbformat_minor": 2
}
